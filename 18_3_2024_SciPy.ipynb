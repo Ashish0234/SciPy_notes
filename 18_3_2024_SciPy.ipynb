{
 "cells": [
  {
   "cell_type": "code",
   "execution_count": 1,
   "id": "482637b8",
   "metadata": {},
   "outputs": [
    {
     "name": "stdout",
     "output_type": "stream",
     "text": [
      "Defaulting to user installation because normal site-packages is not writeable\n",
      "Requirement already satisfied: scipy in c:\\programdata\\anaconda3\\lib\\site-packages (1.11.1)\n",
      "Requirement already satisfied: numpy<1.28.0,>=1.21.6 in c:\\programdata\\anaconda3\\lib\\site-packages (from scipy) (1.24.3)\n",
      "Note: you may need to restart the kernel to use updated packages.\n"
     ]
    }
   ],
   "source": [
    "pip install scipy"
   ]
  },
  {
   "cell_type": "code",
   "execution_count": 2,
   "id": "94abaa0d",
   "metadata": {},
   "outputs": [],
   "source": [
    "from scipy import constants"
   ]
  },
  {
   "cell_type": "code",
   "execution_count": 3,
   "id": "454b4395",
   "metadata": {},
   "outputs": [],
   "source": [
    "import scipy"
   ]
  },
  {
   "cell_type": "code",
   "execution_count": 4,
   "id": "9e164a51",
   "metadata": {},
   "outputs": [
    {
     "name": "stdout",
     "output_type": "stream",
     "text": [
      "1.11.1\n"
     ]
    }
   ],
   "source": [
    "print(scipy.__version__)"
   ]
  },
  {
   "cell_type": "code",
   "execution_count": 5,
   "id": "ca89cf64",
   "metadata": {},
   "outputs": [
    {
     "name": "stdout",
     "output_type": "stream",
     "text": [
      "3.141592653589793\n"
     ]
    }
   ],
   "source": [
    "print(constants.pi)"
   ]
  },
  {
   "cell_type": "code",
   "execution_count": 6,
   "id": "b8f351a5",
   "metadata": {},
   "outputs": [
    {
     "data": {
      "text/plain": [
       "['In',\n",
       " 'Out',\n",
       " '_',\n",
       " '__',\n",
       " '___',\n",
       " '__builtin__',\n",
       " '__builtins__',\n",
       " '__doc__',\n",
       " '__loader__',\n",
       " '__name__',\n",
       " '__package__',\n",
       " '__spec__',\n",
       " '_dh',\n",
       " '_exit_code',\n",
       " '_i',\n",
       " '_i1',\n",
       " '_i2',\n",
       " '_i3',\n",
       " '_i4',\n",
       " '_i5',\n",
       " '_i6',\n",
       " '_ih',\n",
       " '_ii',\n",
       " '_iii',\n",
       " '_oh',\n",
       " 'constants',\n",
       " 'exit',\n",
       " 'get_ipython',\n",
       " 'open',\n",
       " 'quit',\n",
       " 'scipy']"
      ]
     },
     "execution_count": 6,
     "metadata": {},
     "output_type": "execute_result"
    }
   ],
   "source": [
    "dir()"
   ]
  },
  {
   "cell_type": "code",
   "execution_count": 7,
   "id": "70392de1",
   "metadata": {},
   "outputs": [
    {
     "name": "stdout",
     "output_type": "stream",
     "text": [
      "1e+24\n"
     ]
    }
   ],
   "source": [
    "print(constants.yotta)"
   ]
  },
  {
   "cell_type": "code",
   "execution_count": 8,
   "id": "f92ca914",
   "metadata": {},
   "outputs": [
    {
     "name": "stdout",
     "output_type": "stream",
     "text": [
      "1e+21\n"
     ]
    }
   ],
   "source": [
    "print(constants.zetta)"
   ]
  },
  {
   "cell_type": "code",
   "execution_count": 9,
   "id": "a4cef329",
   "metadata": {},
   "outputs": [
    {
     "name": "stdout",
     "output_type": "stream",
     "text": [
      "1e+18\n"
     ]
    }
   ],
   "source": [
    "print(constants.exa)"
   ]
  },
  {
   "cell_type": "code",
   "execution_count": 10,
   "id": "e6cfc36c",
   "metadata": {},
   "outputs": [
    {
     "name": "stdout",
     "output_type": "stream",
     "text": [
      "1000000000000000.0\n"
     ]
    }
   ],
   "source": [
    "print(constants.peta)"
   ]
  },
  {
   "cell_type": "code",
   "execution_count": 11,
   "id": "921b287d",
   "metadata": {},
   "outputs": [
    {
     "name": "stdout",
     "output_type": "stream",
     "text": [
      "1000000000000.0\n"
     ]
    }
   ],
   "source": [
    "print(constants.tera)"
   ]
  },
  {
   "cell_type": "code",
   "execution_count": 12,
   "id": "e6baac89",
   "metadata": {},
   "outputs": [
    {
     "name": "stdout",
     "output_type": "stream",
     "text": [
      "1000000000.0\n"
     ]
    }
   ],
   "source": [
    "print(constants.giga)"
   ]
  },
  {
   "cell_type": "code",
   "execution_count": 13,
   "id": "01180847",
   "metadata": {},
   "outputs": [
    {
     "name": "stdout",
     "output_type": "stream",
     "text": [
      "1000000.0\n"
     ]
    }
   ],
   "source": [
    "print(constants.mega)"
   ]
  },
  {
   "cell_type": "code",
   "execution_count": 14,
   "id": "810d967f",
   "metadata": {},
   "outputs": [
    {
     "name": "stdout",
     "output_type": "stream",
     "text": [
      "1000.0\n"
     ]
    }
   ],
   "source": [
    "print(constants.kilo)"
   ]
  },
  {
   "cell_type": "code",
   "execution_count": 15,
   "id": "5d77d5d4",
   "metadata": {},
   "outputs": [
    {
     "name": "stdout",
     "output_type": "stream",
     "text": [
      "100.0\n"
     ]
    }
   ],
   "source": [
    "print(constants.hecto)"
   ]
  },
  {
   "cell_type": "code",
   "execution_count": 16,
   "id": "faec2b1b",
   "metadata": {},
   "outputs": [
    {
     "name": "stdout",
     "output_type": "stream",
     "text": [
      "10.0\n"
     ]
    }
   ],
   "source": [
    "print(constants.deka)"
   ]
  },
  {
   "cell_type": "code",
   "execution_count": 17,
   "id": "6973ef7c",
   "metadata": {},
   "outputs": [
    {
     "name": "stdout",
     "output_type": "stream",
     "text": [
      "0.1\n"
     ]
    }
   ],
   "source": [
    "print(constants.deci)"
   ]
  },
  {
   "cell_type": "code",
   "execution_count": 18,
   "id": "df578307",
   "metadata": {},
   "outputs": [
    {
     "name": "stdout",
     "output_type": "stream",
     "text": [
      "0.01\n"
     ]
    }
   ],
   "source": [
    "print(constants.centi)"
   ]
  },
  {
   "cell_type": "code",
   "execution_count": 19,
   "id": "578eb004",
   "metadata": {},
   "outputs": [
    {
     "name": "stdout",
     "output_type": "stream",
     "text": [
      "0.001\n"
     ]
    }
   ],
   "source": [
    "print(constants.milli)"
   ]
  },
  {
   "cell_type": "code",
   "execution_count": 20,
   "id": "b9f9f7ce",
   "metadata": {},
   "outputs": [
    {
     "name": "stdout",
     "output_type": "stream",
     "text": [
      "1e-06\n"
     ]
    }
   ],
   "source": [
    "print(constants.micro)"
   ]
  },
  {
   "cell_type": "code",
   "execution_count": 21,
   "id": "76f5de92",
   "metadata": {},
   "outputs": [
    {
     "name": "stdout",
     "output_type": "stream",
     "text": [
      "1e-09\n"
     ]
    }
   ],
   "source": [
    "print(constants.nano)"
   ]
  },
  {
   "cell_type": "code",
   "execution_count": 22,
   "id": "afe01a1e",
   "metadata": {},
   "outputs": [
    {
     "name": "stdout",
     "output_type": "stream",
     "text": [
      "1e-12\n"
     ]
    }
   ],
   "source": [
    "print(constants.pico)"
   ]
  },
  {
   "cell_type": "code",
   "execution_count": 23,
   "id": "c6af5c19",
   "metadata": {},
   "outputs": [
    {
     "name": "stdout",
     "output_type": "stream",
     "text": [
      "1e-15\n"
     ]
    }
   ],
   "source": [
    "print(constants.femto)"
   ]
  },
  {
   "cell_type": "code",
   "execution_count": 24,
   "id": "4912668a",
   "metadata": {},
   "outputs": [
    {
     "name": "stdout",
     "output_type": "stream",
     "text": [
      "1e-18\n"
     ]
    }
   ],
   "source": [
    "print(constants.atto)"
   ]
  },
  {
   "cell_type": "code",
   "execution_count": 25,
   "id": "c9540e7b",
   "metadata": {},
   "outputs": [
    {
     "name": "stdout",
     "output_type": "stream",
     "text": [
      "1e-21\n"
     ]
    }
   ],
   "source": [
    "print(constants.zepto)"
   ]
  },
  {
   "cell_type": "code",
   "execution_count": 26,
   "id": "48116bcd",
   "metadata": {},
   "outputs": [
    {
     "name": "stdout",
     "output_type": "stream",
     "text": [
      "1024\n"
     ]
    }
   ],
   "source": [
    "print(constants.kibi)"
   ]
  },
  {
   "cell_type": "code",
   "execution_count": 27,
   "id": "02bfbcfa",
   "metadata": {},
   "outputs": [
    {
     "name": "stdout",
     "output_type": "stream",
     "text": [
      "1048576\n"
     ]
    }
   ],
   "source": [
    "print(constants.mebi)"
   ]
  },
  {
   "cell_type": "code",
   "execution_count": 28,
   "id": "0185b3ac",
   "metadata": {},
   "outputs": [
    {
     "name": "stdout",
     "output_type": "stream",
     "text": [
      "1073741824\n"
     ]
    }
   ],
   "source": [
    "print(constants.gibi)"
   ]
  },
  {
   "cell_type": "code",
   "execution_count": 29,
   "id": "09283a68",
   "metadata": {},
   "outputs": [
    {
     "name": "stdout",
     "output_type": "stream",
     "text": [
      "1099511627776\n"
     ]
    }
   ],
   "source": [
    "print(constants.tebi)"
   ]
  },
  {
   "cell_type": "code",
   "execution_count": 30,
   "id": "31267041",
   "metadata": {},
   "outputs": [
    {
     "name": "stdout",
     "output_type": "stream",
     "text": [
      "1125899906842624\n"
     ]
    }
   ],
   "source": [
    "print(constants.pebi)"
   ]
  },
  {
   "cell_type": "code",
   "execution_count": 31,
   "id": "f70c6579",
   "metadata": {},
   "outputs": [
    {
     "name": "stdout",
     "output_type": "stream",
     "text": [
      "1152921504606846976\n"
     ]
    }
   ],
   "source": [
    "print(constants.exbi)"
   ]
  },
  {
   "cell_type": "code",
   "execution_count": 32,
   "id": "f9f76cf5",
   "metadata": {},
   "outputs": [
    {
     "name": "stdout",
     "output_type": "stream",
     "text": [
      "1180591620717411303424\n"
     ]
    }
   ],
   "source": [
    "print(constants.zebi)"
   ]
  },
  {
   "cell_type": "code",
   "execution_count": 33,
   "id": "01a3ad6f",
   "metadata": {},
   "outputs": [
    {
     "name": "stdout",
     "output_type": "stream",
     "text": [
      "1208925819614629174706176\n"
     ]
    }
   ],
   "source": [
    "print(constants.yobi)"
   ]
  },
  {
   "cell_type": "code",
   "execution_count": 34,
   "id": "a68b337a",
   "metadata": {},
   "outputs": [
    {
     "name": "stdout",
     "output_type": "stream",
     "text": [
      "0.001\n"
     ]
    }
   ],
   "source": [
    "print(constants.gram)"
   ]
  },
  {
   "cell_type": "code",
   "execution_count": 35,
   "id": "2a693e18",
   "metadata": {},
   "outputs": [
    {
     "name": "stdout",
     "output_type": "stream",
     "text": [
      "1000.0\n"
     ]
    }
   ],
   "source": [
    "print(constants.metric_ton)"
   ]
  },
  {
   "cell_type": "code",
   "execution_count": 36,
   "id": "0c7f2309",
   "metadata": {},
   "outputs": [
    {
     "name": "stdout",
     "output_type": "stream",
     "text": [
      "6.479891e-05\n"
     ]
    }
   ],
   "source": [
    "print(constants.grain)"
   ]
  },
  {
   "cell_type": "code",
   "execution_count": 37,
   "id": "3216c9df",
   "metadata": {},
   "outputs": [
    {
     "name": "stdout",
     "output_type": "stream",
     "text": [
      "0.45359236999999997\n"
     ]
    }
   ],
   "source": [
    "print(constants.lb)"
   ]
  },
  {
   "cell_type": "code",
   "execution_count": 38,
   "id": "ce98e1c1",
   "metadata": {},
   "outputs": [
    {
     "name": "stdout",
     "output_type": "stream",
     "text": [
      "0.45359236999999997\n"
     ]
    }
   ],
   "source": [
    "print(constants.pound)"
   ]
  },
  {
   "cell_type": "code",
   "execution_count": 39,
   "id": "d1eb50fc",
   "metadata": {},
   "outputs": [
    {
     "name": "stdout",
     "output_type": "stream",
     "text": [
      "0.028349523124999998\n"
     ]
    }
   ],
   "source": [
    "print(constants.oz)"
   ]
  },
  {
   "cell_type": "code",
   "execution_count": 40,
   "id": "2af6a837",
   "metadata": {},
   "outputs": [
    {
     "name": "stdout",
     "output_type": "stream",
     "text": [
      "0.028349523124999998\n"
     ]
    }
   ],
   "source": [
    "print(constants.ounce)"
   ]
  },
  {
   "cell_type": "code",
   "execution_count": 41,
   "id": "b1143df0",
   "metadata": {},
   "outputs": [
    {
     "name": "stdout",
     "output_type": "stream",
     "text": [
      "6.3502931799999995\n"
     ]
    }
   ],
   "source": [
    "print(constants.stone)"
   ]
  },
  {
   "cell_type": "code",
   "execution_count": 42,
   "id": "89040462",
   "metadata": {},
   "outputs": [
    {
     "name": "stdout",
     "output_type": "stream",
     "text": [
      "1016.0469088\n"
     ]
    }
   ],
   "source": [
    "print(constants.long_ton)"
   ]
  },
  {
   "cell_type": "code",
   "execution_count": 43,
   "id": "7760cf91",
   "metadata": {},
   "outputs": [
    {
     "name": "stdout",
     "output_type": "stream",
     "text": [
      "907.1847399999999\n"
     ]
    }
   ],
   "source": [
    "print(constants.short_ton)"
   ]
  },
  {
   "cell_type": "code",
   "execution_count": 44,
   "id": "ce72630a",
   "metadata": {},
   "outputs": [
    {
     "name": "stdout",
     "output_type": "stream",
     "text": [
      "0.37324172159999996\n"
     ]
    }
   ],
   "source": [
    "print(constants.troy_pound)"
   ]
  },
  {
   "cell_type": "code",
   "execution_count": 45,
   "id": "f15a0dd3",
   "metadata": {},
   "outputs": [
    {
     "name": "stdout",
     "output_type": "stream",
     "text": [
      "0.0002\n"
     ]
    }
   ],
   "source": [
    "print(constants.carat)"
   ]
  },
  {
   "cell_type": "code",
   "execution_count": 46,
   "id": "a853beab",
   "metadata": {},
   "outputs": [
    {
     "name": "stdout",
     "output_type": "stream",
     "text": [
      "1.6605390666e-27\n"
     ]
    }
   ],
   "source": [
    "print(constants.atomic_mass)"
   ]
  },
  {
   "cell_type": "code",
   "execution_count": 47,
   "id": "545378fa",
   "metadata": {},
   "outputs": [
    {
     "name": "stdout",
     "output_type": "stream",
     "text": [
      "1.6605390666e-27\n"
     ]
    }
   ],
   "source": [
    "print(constants.m_u)"
   ]
  },
  {
   "cell_type": "code",
   "execution_count": 48,
   "id": "3b6339b5",
   "metadata": {},
   "outputs": [
    {
     "name": "stdout",
     "output_type": "stream",
     "text": [
      "1.6605390666e-27\n"
     ]
    }
   ],
   "source": [
    "print(constants.u)"
   ]
  },
  {
   "cell_type": "code",
   "execution_count": 49,
   "id": "05bf1c0a",
   "metadata": {},
   "outputs": [
    {
     "name": "stdout",
     "output_type": "stream",
     "text": [
      "0.017453292519943295\n"
     ]
    }
   ],
   "source": [
    "print(constants.degree)"
   ]
  },
  {
   "cell_type": "code",
   "execution_count": 50,
   "id": "d68cc488",
   "metadata": {},
   "outputs": [
    {
     "name": "stdout",
     "output_type": "stream",
     "text": [
      "0.0002908882086657216\n"
     ]
    }
   ],
   "source": [
    "print(constants.arcmin)"
   ]
  },
  {
   "cell_type": "code",
   "execution_count": 51,
   "id": "0a84758b",
   "metadata": {},
   "outputs": [
    {
     "name": "stdout",
     "output_type": "stream",
     "text": [
      "0.0002908882086657216\n"
     ]
    }
   ],
   "source": [
    "print(constants.arcminute)"
   ]
  },
  {
   "cell_type": "code",
   "execution_count": 52,
   "id": "2e00cc80",
   "metadata": {},
   "outputs": [
    {
     "name": "stdout",
     "output_type": "stream",
     "text": [
      "4.84813681109536e-06\n"
     ]
    }
   ],
   "source": [
    "print(constants.arcsec)"
   ]
  },
  {
   "cell_type": "code",
   "execution_count": 53,
   "id": "07b7d5b0",
   "metadata": {},
   "outputs": [
    {
     "name": "stdout",
     "output_type": "stream",
     "text": [
      "4.84813681109536e-06\n"
     ]
    }
   ],
   "source": [
    "print(constants.arcsecond)"
   ]
  },
  {
   "cell_type": "code",
   "execution_count": 54,
   "id": "f943e53c",
   "metadata": {},
   "outputs": [
    {
     "name": "stdout",
     "output_type": "stream",
     "text": [
      "60.0\n"
     ]
    }
   ],
   "source": [
    "print(constants.minute)"
   ]
  },
  {
   "cell_type": "code",
   "execution_count": 55,
   "id": "ee3e3291",
   "metadata": {},
   "outputs": [
    {
     "name": "stdout",
     "output_type": "stream",
     "text": [
      "3600.0\n"
     ]
    }
   ],
   "source": [
    "print(constants.hour)"
   ]
  },
  {
   "cell_type": "code",
   "execution_count": 56,
   "id": "82b01df1",
   "metadata": {},
   "outputs": [
    {
     "name": "stdout",
     "output_type": "stream",
     "text": [
      "86400.0\n"
     ]
    }
   ],
   "source": [
    "print(constants.day)"
   ]
  },
  {
   "cell_type": "code",
   "execution_count": 57,
   "id": "61024b20",
   "metadata": {},
   "outputs": [
    {
     "name": "stdout",
     "output_type": "stream",
     "text": [
      "604800.0\n"
     ]
    }
   ],
   "source": [
    "print(constants.week)"
   ]
  },
  {
   "cell_type": "code",
   "execution_count": 58,
   "id": "6a81bc5d",
   "metadata": {},
   "outputs": [
    {
     "name": "stdout",
     "output_type": "stream",
     "text": [
      "31536000.0\n"
     ]
    }
   ],
   "source": [
    "print(constants.year)"
   ]
  },
  {
   "cell_type": "code",
   "execution_count": 60,
   "id": "97d5daab",
   "metadata": {},
   "outputs": [
    {
     "name": "stdout",
     "output_type": "stream",
     "text": [
      "31557600.0\n"
     ]
    }
   ],
   "source": [
    "print(constants.Julian_year)"
   ]
  },
  {
   "cell_type": "code",
   "execution_count": 61,
   "id": "93c05191",
   "metadata": {},
   "outputs": [
    {
     "name": "stdout",
     "output_type": "stream",
     "text": [
      "0.0254\n"
     ]
    }
   ],
   "source": [
    "print(constants.inch)"
   ]
  },
  {
   "cell_type": "code",
   "execution_count": 62,
   "id": "d13e77e2",
   "metadata": {},
   "outputs": [
    {
     "name": "stdout",
     "output_type": "stream",
     "text": [
      "0.30479999999999996\n"
     ]
    }
   ],
   "source": [
    "print(constants.foot)"
   ]
  },
  {
   "cell_type": "code",
   "execution_count": 63,
   "id": "ca4e30d4",
   "metadata": {},
   "outputs": [
    {
     "name": "stdout",
     "output_type": "stream",
     "text": [
      "0.9143999999999999\n"
     ]
    }
   ],
   "source": [
    "print(constants.yard)"
   ]
  },
  {
   "cell_type": "code",
   "execution_count": 64,
   "id": "b745a4ab",
   "metadata": {},
   "outputs": [
    {
     "name": "stdout",
     "output_type": "stream",
     "text": [
      "1609.3439999999998\n"
     ]
    }
   ],
   "source": [
    "print(constants.mile)"
   ]
  },
  {
   "cell_type": "code",
   "execution_count": 65,
   "id": "417deaf8",
   "metadata": {},
   "outputs": [
    {
     "name": "stdout",
     "output_type": "stream",
     "text": [
      "2.5399999999999997e-05\n"
     ]
    }
   ],
   "source": [
    "print(constants.mil)"
   ]
  },
  {
   "cell_type": "code",
   "execution_count": 66,
   "id": "be855f70",
   "metadata": {},
   "outputs": [
    {
     "name": "stdout",
     "output_type": "stream",
     "text": [
      "0.00035277777777777776\n"
     ]
    }
   ],
   "source": [
    "print(constants.pt)"
   ]
  },
  {
   "cell_type": "code",
   "execution_count": 67,
   "id": "50d0e172",
   "metadata": {},
   "outputs": [
    {
     "name": "stdout",
     "output_type": "stream",
     "text": [
      "0.00035277777777777776\n"
     ]
    }
   ],
   "source": [
    "print(constants.point)"
   ]
  },
  {
   "cell_type": "code",
   "execution_count": 68,
   "id": "f3594d94",
   "metadata": {},
   "outputs": [
    {
     "name": "stdout",
     "output_type": "stream",
     "text": [
      "0.3048006096012192\n"
     ]
    }
   ],
   "source": [
    "print(constants.survey_foot)"
   ]
  },
  {
   "cell_type": "code",
   "execution_count": 70,
   "id": "6d40bf5b",
   "metadata": {},
   "outputs": [
    {
     "name": "stdout",
     "output_type": "stream",
     "text": [
      "1609.3472186944373\n"
     ]
    }
   ],
   "source": [
    "print(constants.survey_mile)"
   ]
  },
  {
   "cell_type": "code",
   "execution_count": 71,
   "id": "f1166312",
   "metadata": {},
   "outputs": [
    {
     "name": "stdout",
     "output_type": "stream",
     "text": [
      "1852.0\n"
     ]
    }
   ],
   "source": [
    "print(constants.nautical_mile)"
   ]
  },
  {
   "cell_type": "code",
   "execution_count": 72,
   "id": "28b74d73",
   "metadata": {},
   "outputs": [
    {
     "name": "stdout",
     "output_type": "stream",
     "text": [
      "1e-15\n"
     ]
    }
   ],
   "source": [
    "print(constants.fermi)"
   ]
  },
  {
   "cell_type": "code",
   "execution_count": 73,
   "id": "f39861c5",
   "metadata": {},
   "outputs": [
    {
     "name": "stdout",
     "output_type": "stream",
     "text": [
      "1e-10\n"
     ]
    }
   ],
   "source": [
    "print(constants.angstrom)"
   ]
  },
  {
   "cell_type": "code",
   "execution_count": 74,
   "id": "e1adba38",
   "metadata": {},
   "outputs": [
    {
     "name": "stdout",
     "output_type": "stream",
     "text": [
      "1e-06\n"
     ]
    }
   ],
   "source": [
    "print(constants.micron)"
   ]
  },
  {
   "cell_type": "code",
   "execution_count": 75,
   "id": "b4208c42",
   "metadata": {},
   "outputs": [
    {
     "name": "stdout",
     "output_type": "stream",
     "text": [
      "149597870700.0\n"
     ]
    }
   ],
   "source": [
    "print(constants.au)"
   ]
  },
  {
   "cell_type": "code",
   "execution_count": 76,
   "id": "f84a3537",
   "metadata": {},
   "outputs": [
    {
     "name": "stdout",
     "output_type": "stream",
     "text": [
      "149597870700.0\n"
     ]
    }
   ],
   "source": [
    "print(constants.astronomical_unit)"
   ]
  },
  {
   "cell_type": "code",
   "execution_count": 77,
   "id": "d0e84c85",
   "metadata": {},
   "outputs": [
    {
     "name": "stdout",
     "output_type": "stream",
     "text": [
      "9460730472580800.0\n"
     ]
    }
   ],
   "source": [
    "print(constants.light_year)"
   ]
  },
  {
   "cell_type": "code",
   "execution_count": 78,
   "id": "2c2ca9a8",
   "metadata": {},
   "outputs": [
    {
     "name": "stdout",
     "output_type": "stream",
     "text": [
      "3.085677581491367e+16\n"
     ]
    }
   ],
   "source": [
    "print(constants.parsec)"
   ]
  },
  {
   "cell_type": "code",
   "execution_count": 79,
   "id": "83b98f25",
   "metadata": {},
   "outputs": [
    {
     "name": "stdout",
     "output_type": "stream",
     "text": [
      "101325.0\n"
     ]
    }
   ],
   "source": [
    "print(constants.atm)"
   ]
  },
  {
   "cell_type": "code",
   "execution_count": 80,
   "id": "c0e44432",
   "metadata": {},
   "outputs": [
    {
     "name": "stdout",
     "output_type": "stream",
     "text": [
      "101325.0\n"
     ]
    }
   ],
   "source": [
    "print(constants.atmosphere)"
   ]
  },
  {
   "cell_type": "code",
   "execution_count": 81,
   "id": "8e6881be",
   "metadata": {},
   "outputs": [
    {
     "name": "stdout",
     "output_type": "stream",
     "text": [
      "100000.0\n"
     ]
    }
   ],
   "source": [
    "print(constants.bar)"
   ]
  },
  {
   "cell_type": "code",
   "execution_count": 82,
   "id": "bb609d49",
   "metadata": {},
   "outputs": [
    {
     "name": "stdout",
     "output_type": "stream",
     "text": [
      "133.32236842105263\n"
     ]
    }
   ],
   "source": [
    "print(constants.torr)"
   ]
  },
  {
   "cell_type": "code",
   "execution_count": 83,
   "id": "56744fa0",
   "metadata": {},
   "outputs": [
    {
     "name": "stdout",
     "output_type": "stream",
     "text": [
      "133.32236842105263\n"
     ]
    }
   ],
   "source": [
    "print(constants.mmHg)"
   ]
  },
  {
   "cell_type": "code",
   "execution_count": 84,
   "id": "561b923e",
   "metadata": {},
   "outputs": [
    {
     "name": "stdout",
     "output_type": "stream",
     "text": [
      "6894.757293168361\n"
     ]
    }
   ],
   "source": [
    "print(constants.psi)"
   ]
  },
  {
   "cell_type": "code",
   "execution_count": 85,
   "id": "e01855e8",
   "metadata": {},
   "outputs": [
    {
     "name": "stdout",
     "output_type": "stream",
     "text": [
      "10000.0\n"
     ]
    }
   ],
   "source": [
    "print(constants.hectare)"
   ]
  },
  {
   "cell_type": "code",
   "execution_count": 86,
   "id": "4f70456c",
   "metadata": {},
   "outputs": [
    {
     "name": "stdout",
     "output_type": "stream",
     "text": [
      "4046.8564223999992\n"
     ]
    }
   ],
   "source": [
    "print(constants.acre)"
   ]
  },
  {
   "cell_type": "code",
   "execution_count": 87,
   "id": "0f168002",
   "metadata": {},
   "outputs": [
    {
     "name": "stdout",
     "output_type": "stream",
     "text": [
      "0.001\n"
     ]
    }
   ],
   "source": [
    "print(constants.litre)"
   ]
  },
  {
   "cell_type": "code",
   "execution_count": 88,
   "id": "cbef55f4",
   "metadata": {},
   "outputs": [
    {
     "name": "stdout",
     "output_type": "stream",
     "text": [
      "0.0037854117839999997\n"
     ]
    }
   ],
   "source": [
    "print(constants.gallon)"
   ]
  },
  {
   "cell_type": "code",
   "execution_count": 90,
   "id": "bd7a1ccd",
   "metadata": {},
   "outputs": [
    {
     "name": "stdout",
     "output_type": "stream",
     "text": [
      "0.0037854117839999997\n"
     ]
    }
   ],
   "source": [
    "print(constants.gallon_US)"
   ]
  },
  {
   "cell_type": "code",
   "execution_count": 91,
   "id": "67c2e7ee",
   "metadata": {},
   "outputs": [
    {
     "name": "stdout",
     "output_type": "stream",
     "text": [
      "0.00454609\n"
     ]
    }
   ],
   "source": [
    "print(constants.gallon_imp)"
   ]
  },
  {
   "cell_type": "code",
   "execution_count": 93,
   "id": "c4aeb1fc",
   "metadata": {},
   "outputs": [
    {
     "name": "stdout",
     "output_type": "stream",
     "text": [
      "2.9573529562499998e-05\n"
     ]
    }
   ],
   "source": [
    "print(constants.fluid_ounce)"
   ]
  },
  {
   "cell_type": "code",
   "execution_count": 94,
   "id": "7840fcef",
   "metadata": {},
   "outputs": [
    {
     "name": "stdout",
     "output_type": "stream",
     "text": [
      "2.9573529562499998e-05\n"
     ]
    }
   ],
   "source": [
    "print(constants.fluid_ounce_US)"
   ]
  },
  {
   "cell_type": "code",
   "execution_count": 95,
   "id": "8e639d71",
   "metadata": {},
   "outputs": [
    {
     "name": "stdout",
     "output_type": "stream",
     "text": [
      "2.84130625e-05\n"
     ]
    }
   ],
   "source": [
    "print(constants.fluid_ounce_imp)"
   ]
  },
  {
   "cell_type": "code",
   "execution_count": 96,
   "id": "553a3909",
   "metadata": {},
   "outputs": [
    {
     "name": "stdout",
     "output_type": "stream",
     "text": [
      "0.15898729492799998\n"
     ]
    }
   ],
   "source": [
    "print(constants.barrel)"
   ]
  },
  {
   "cell_type": "code",
   "execution_count": 97,
   "id": "1e509d03",
   "metadata": {},
   "outputs": [
    {
     "name": "stdout",
     "output_type": "stream",
     "text": [
      "0.15898729492799998\n"
     ]
    }
   ],
   "source": [
    "print(constants.bbl)"
   ]
  },
  {
   "cell_type": "code",
   "execution_count": 98,
   "id": "3d815ee1",
   "metadata": {},
   "outputs": [
    {
     "name": "stdout",
     "output_type": "stream",
     "text": [
      "0.2777777777777778\n"
     ]
    }
   ],
   "source": [
    "print(constants.kmh)"
   ]
  },
  {
   "cell_type": "code",
   "execution_count": 99,
   "id": "fb1ef7a3",
   "metadata": {},
   "outputs": [
    {
     "name": "stdout",
     "output_type": "stream",
     "text": [
      "0.44703999999999994\n"
     ]
    }
   ],
   "source": [
    "print(constants.mph)"
   ]
  },
  {
   "cell_type": "code",
   "execution_count": 100,
   "id": "638f8bde",
   "metadata": {},
   "outputs": [
    {
     "name": "stdout",
     "output_type": "stream",
     "text": [
      "340.5\n"
     ]
    }
   ],
   "source": [
    "print(constants.mach)"
   ]
  },
  {
   "cell_type": "code",
   "execution_count": 101,
   "id": "34462bdb",
   "metadata": {},
   "outputs": [
    {
     "name": "stdout",
     "output_type": "stream",
     "text": [
      "340.5\n"
     ]
    }
   ],
   "source": [
    "print(constants.speed_of_sound)"
   ]
  },
  {
   "cell_type": "code",
   "execution_count": 102,
   "id": "a0f2a529",
   "metadata": {},
   "outputs": [
    {
     "name": "stdout",
     "output_type": "stream",
     "text": [
      "0.5144444444444445\n"
     ]
    }
   ],
   "source": [
    "print(constants.knot)"
   ]
  },
  {
   "cell_type": "code",
   "execution_count": 103,
   "id": "03018b30",
   "metadata": {},
   "outputs": [
    {
     "name": "stdout",
     "output_type": "stream",
     "text": [
      "273.15\n"
     ]
    }
   ],
   "source": [
    "print(constants.zero_Celsius)"
   ]
  },
  {
   "cell_type": "code",
   "execution_count": 104,
   "id": "3508b28b",
   "metadata": {},
   "outputs": [
    {
     "name": "stdout",
     "output_type": "stream",
     "text": [
      "0.5555555555555556\n"
     ]
    }
   ],
   "source": [
    "print(constants.degree_Fahrenheit)"
   ]
  },
  {
   "cell_type": "code",
   "execution_count": 106,
   "id": "bd8aad52",
   "metadata": {},
   "outputs": [
    {
     "name": "stdout",
     "output_type": "stream",
     "text": [
      "1.602176634e-19\n"
     ]
    }
   ],
   "source": [
    "print(constants.eV)"
   ]
  },
  {
   "cell_type": "code",
   "execution_count": 107,
   "id": "6f3d1aaa",
   "metadata": {},
   "outputs": [
    {
     "name": "stdout",
     "output_type": "stream",
     "text": [
      "1.602176634e-19\n"
     ]
    }
   ],
   "source": [
    "print(constants.electron_volt)"
   ]
  },
  {
   "cell_type": "code",
   "execution_count": 108,
   "id": "4af2da47",
   "metadata": {},
   "outputs": [
    {
     "name": "stdout",
     "output_type": "stream",
     "text": [
      "4.184\n"
     ]
    }
   ],
   "source": [
    "print(constants.calorie_th)"
   ]
  },
  {
   "cell_type": "code",
   "execution_count": 109,
   "id": "54ae247a",
   "metadata": {},
   "outputs": [
    {
     "name": "stdout",
     "output_type": "stream",
     "text": [
      "4.1868\n"
     ]
    }
   ],
   "source": [
    "print(constants.calorie_IT)"
   ]
  },
  {
   "cell_type": "code",
   "execution_count": 110,
   "id": "f5c818de",
   "metadata": {},
   "outputs": [
    {
     "name": "stdout",
     "output_type": "stream",
     "text": [
      "1e-07\n"
     ]
    }
   ],
   "source": [
    "print(constants.erg)"
   ]
  },
  {
   "cell_type": "code",
   "execution_count": 112,
   "id": "b1b1d4f3",
   "metadata": {},
   "outputs": [
    {
     "name": "stdout",
     "output_type": "stream",
     "text": [
      "1055.05585262\n"
     ]
    }
   ],
   "source": [
    "print(constants.Btu)"
   ]
  },
  {
   "cell_type": "code",
   "execution_count": 113,
   "id": "ed94ba18",
   "metadata": {},
   "outputs": [
    {
     "name": "stdout",
     "output_type": "stream",
     "text": [
      "1054.3502644888888\n"
     ]
    }
   ],
   "source": [
    "print(constants.Btu_th)"
   ]
  },
  {
   "cell_type": "code",
   "execution_count": 115,
   "id": "50e77f53",
   "metadata": {},
   "outputs": [
    {
     "name": "stdout",
     "output_type": "stream",
     "text": [
      "4184000000.0\n"
     ]
    }
   ],
   "source": [
    "print(constants.ton_TNT)"
   ]
  },
  {
   "cell_type": "code",
   "execution_count": 116,
   "id": "58312107",
   "metadata": {},
   "outputs": [
    {
     "name": "stdout",
     "output_type": "stream",
     "text": [
      "745.6998715822701\n"
     ]
    }
   ],
   "source": [
    "print(constants.hp)"
   ]
  },
  {
   "cell_type": "code",
   "execution_count": 117,
   "id": "1f2c29c5",
   "metadata": {},
   "outputs": [
    {
     "name": "stdout",
     "output_type": "stream",
     "text": [
      "745.6998715822701\n"
     ]
    }
   ],
   "source": [
    "print(constants.horsepower)"
   ]
  },
  {
   "cell_type": "code",
   "execution_count": 118,
   "id": "ae0839ff",
   "metadata": {},
   "outputs": [
    {
     "name": "stdout",
     "output_type": "stream",
     "text": [
      "1e-05\n"
     ]
    }
   ],
   "source": [
    "print(constants.dyn)"
   ]
  },
  {
   "cell_type": "code",
   "execution_count": 119,
   "id": "b7e974fb",
   "metadata": {},
   "outputs": [
    {
     "name": "stdout",
     "output_type": "stream",
     "text": [
      "1e-05\n"
     ]
    }
   ],
   "source": [
    "print(constants.dyne)"
   ]
  },
  {
   "cell_type": "code",
   "execution_count": 120,
   "id": "2a622470",
   "metadata": {},
   "outputs": [
    {
     "name": "stdout",
     "output_type": "stream",
     "text": [
      "1e-05\n"
     ]
    }
   ],
   "source": [
    "print(constants.dyne)"
   ]
  },
  {
   "cell_type": "code",
   "execution_count": 121,
   "id": "13da4dde",
   "metadata": {},
   "outputs": [
    {
     "name": "stdout",
     "output_type": "stream",
     "text": [
      "4.4482216152605\n"
     ]
    }
   ],
   "source": [
    "print(constants.lbf)"
   ]
  },
  {
   "cell_type": "code",
   "execution_count": 122,
   "id": "5c8d790c",
   "metadata": {},
   "outputs": [
    {
     "name": "stdout",
     "output_type": "stream",
     "text": [
      "4.4482216152605\n"
     ]
    }
   ],
   "source": [
    "print(constants.pound_force)"
   ]
  },
  {
   "cell_type": "code",
   "execution_count": 123,
   "id": "e2d47481",
   "metadata": {},
   "outputs": [
    {
     "name": "stdout",
     "output_type": "stream",
     "text": [
      "9.80665\n"
     ]
    }
   ],
   "source": [
    "print(constants.kgf)"
   ]
  },
  {
   "cell_type": "code",
   "execution_count": 124,
   "id": "b24a0226",
   "metadata": {},
   "outputs": [
    {
     "name": "stdout",
     "output_type": "stream",
     "text": [
      "9.80665\n"
     ]
    }
   ],
   "source": [
    "print(constants.kilogram_force)"
   ]
  },
  {
   "cell_type": "code",
   "execution_count": 126,
   "id": "58d23424",
   "metadata": {},
   "outputs": [
    {
     "name": "stdout",
     "output_type": "stream",
     "text": [
      "[-0.73908513]\n"
     ]
    }
   ],
   "source": [
    "#find root the equation x+cos(x):\n",
    "from scipy.optimize import root\n",
    "from math import cos\n",
    "def eqn(x):\n",
    "    return x + cos(x)\n",
    "myroot = root(eqn, 0)\n",
    "print(myroot.x)"
   ]
  },
  {
   "cell_type": "code",
   "execution_count": 127,
   "id": "db1064ca",
   "metadata": {},
   "outputs": [
    {
     "name": "stdout",
     "output_type": "stream",
     "text": [
      " message: The solution converged.\n",
      " success: True\n",
      "  status: 1\n",
      "     fun: [ 0.000e+00]\n",
      "       x: [-7.391e-01]\n",
      "    nfev: 9\n",
      "    fjac: [[-1.000e+00]]\n",
      "       r: [-1.674e+00]\n",
      "     qtf: [-2.668e-13]\n"
     ]
    }
   ],
   "source": [
    "print(myroot)"
   ]
  },
  {
   "cell_type": "code",
   "execution_count": 130,
   "id": "07b4aa15",
   "metadata": {},
   "outputs": [
    {
     "name": "stdout",
     "output_type": "stream",
     "text": [
      "  message: Optimization terminated successfully.\n",
      "  success: True\n",
      "   status: 0\n",
      "      fun: 1.75\n",
      "        x: [-5.000e-01]\n",
      "      nit: 2\n",
      "      jac: [ 0.000e+00]\n",
      " hess_inv: [[ 5.000e-01]]\n",
      "     nfev: 8\n",
      "     njev: 4\n"
     ]
    }
   ],
   "source": [
    "#minimize the function x^2+x+2 with BFGS\n",
    "from scipy.optimize import minimize\n",
    "def eqn(x):\n",
    "    return x**2 + x + 2\n",
    "mymin = minimize(eqn, 0, method='BFGS')\n",
    "print(mymin)"
   ]
  },
  {
   "cell_type": "code",
   "execution_count": 135,
   "id": "8e5202c4",
   "metadata": {},
   "outputs": [],
   "source": [
    "import numpy as np\n"
   ]
  },
  {
   "cell_type": "code",
   "execution_count": 137,
   "id": "364959a4",
   "metadata": {},
   "outputs": [],
   "source": [
    "from scipy.sparse import csr_matrix\n"
   ]
  },
  {
   "cell_type": "code",
   "execution_count": 139,
   "id": "98f63e86",
   "metadata": {},
   "outputs": [
    {
     "name": "stdout",
     "output_type": "stream",
     "text": [
      "  (0, 5)\t1\n",
      "  (0, 6)\t1\n",
      "  (0, 8)\t2\n"
     ]
    }
   ],
   "source": [
    "arr = np.array([0,0,0,0,0,1,1,0,2])\n",
    "print(csr_matrix(arr))"
   ]
  },
  {
   "cell_type": "code",
   "execution_count": 140,
   "id": "7c9bc60a",
   "metadata": {},
   "outputs": [
    {
     "name": "stdout",
     "output_type": "stream",
     "text": [
      "[1 1 2]\n"
     ]
    }
   ],
   "source": [
    "arr = np.array([[0,0,0],[0,0,1],[1,0,2]])\n",
    "print(csr_matrix(arr).data)"
   ]
  },
  {
   "cell_type": "code",
   "execution_count": 142,
   "id": "341239d7",
   "metadata": {},
   "outputs": [
    {
     "name": "stdout",
     "output_type": "stream",
     "text": [
      "3\n"
     ]
    }
   ],
   "source": [
    "arr = np.array([[0,0,0],[0,0,1],[1,0,2]])\n",
    "print(csr_matrix(arr).count_nonzero())"
   ]
  },
  {
   "cell_type": "code",
   "execution_count": null,
   "id": "aa051aea",
   "metadata": {},
   "outputs": [],
   "source": [
    "arr = np.array([[0,0,0],[0,0,1],[1,0,2]])\n",
    "print(csr_matrix(arr).data)"
   ]
  }
 ],
 "metadata": {
  "kernelspec": {
   "display_name": "Python 3 (ipykernel)",
   "language": "python",
   "name": "python3"
  },
  "language_info": {
   "codemirror_mode": {
    "name": "ipython",
    "version": 3
   },
   "file_extension": ".py",
   "mimetype": "text/x-python",
   "name": "python",
   "nbconvert_exporter": "python",
   "pygments_lexer": "ipython3",
   "version": "3.11.5"
  }
 },
 "nbformat": 4,
 "nbformat_minor": 5
}
